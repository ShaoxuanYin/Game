{
 "cells": [
  {
   "cell_type": "code",
   "execution_count": 3,
   "id": "4c49bcef",
   "metadata": {},
   "outputs": [],
   "source": [
    "import tensorflow as tf"
   ]
  },
  {
   "cell_type": "markdown",
   "id": "93fdbe6e",
   "metadata": {},
   "source": [
    "## Loading MNIST Data set"
   ]
  },
  {
   "cell_type": "code",
   "execution_count": 6,
   "id": "7d3dab09",
   "metadata": {},
   "outputs": [],
   "source": [
    "mnist = tf.keras.datasets.mnist"
   ]
  },
  {
   "cell_type": "markdown",
   "id": "b6530943",
   "metadata": {},
   "source": [
    "## Divide into train and test datasets"
   ]
  },
  {
   "cell_type": "code",
   "execution_count": 8,
   "id": "a7f591e3",
   "metadata": {},
   "outputs": [],
   "source": [
    "(x_train, y_train),(x_test, y_test)=mnist.load_data()"
   ]
  },
  {
   "cell_type": "code",
   "execution_count": 11,
   "id": "d6083907",
   "metadata": {},
   "outputs": [
    {
     "data": {
      "text/plain": [
       "(60000, 28, 28)"
      ]
     },
     "execution_count": 11,
     "metadata": {},
     "output_type": "execute_result"
    }
   ],
   "source": [
    "x_train.shape"
   ]
  },
  {
   "cell_type": "code",
   "execution_count": 14,
   "id": "8f547a6b",
   "metadata": {},
   "outputs": [],
   "source": [
    "import matplotlib.pyplot as plt"
   ]
  },
  {
   "cell_type": "code",
   "execution_count": 17,
   "id": "46cbb978",
   "metadata": {},
   "outputs": [
    {
     "data": {
      "image/png": "[encoded data removed]",
      "text/plain": [
       "<Figure size 432x288 with 1 Axes>"
      ]
     },
     "metadata": {
      "needs_background": "light"
     },
     "output_type": "display_data"
    }
   ],
   "source": [
    "plt.imshow(x_train[0], cmap = plt.cm.binary)\n",
    "plt.show()"
   ]
  },
  {
   "cell_type": "markdown",
   "id": "5cde15de",
   "metadata": {},
   "source": [
    "Before normalization. 1 channel --> 0~255, no colored RGB"
   ]
  },
  {
   "cell_type": "code",
   "execution_count": 20,
   "id": "a35c669c",
   "metadata": {},
   "outputs": [],
   "source": [
    "# print(x_train[0])"
   ]
  },
  {
   "cell_type": "markdown",
   "id": "c1df0a58",
   "metadata": {},
   "source": [
    "## Normalizing the data | preprocessing"
   ]
  },
  {
   "cell_type": "code",
   "execution_count": 22,
   "id": "48e94546",
   "metadata": {},
   "outputs": [
    {
     "data": {
      "text/plain": [
       "<matplotlib.image.AxesImage at 0x7f1c13f45220>"
      ]
     },
     "execution_count": 22,
     "metadata": {},
     "output_type": "execute_result"
    },
    {
     "data": {
      "image/png": "[encoded data removed]",
      "text/plain": [
       "<Figure size 432x288 with 1 Axes>"
      ]
     },
     "metadata": {
      "needs_background": "light"
     },
     "output_type": "display_data"
    }
   ],
   "source": [
    "x_train = tf.keras.utils.normalize(x_train,axis=1)\n",
    "x_test=tf.keras.utils.normalize(x_test, axis=1)\n",
    "plt.imshow(x_train[0], cmap=plt.cm.binary)"
   ]
  },
  {
   "cell_type": "markdown",
   "id": "e8db13c0",
   "metadata": {},
   "source": [
    "## After normalization"
   ]
  },
  {
   "cell_type": "code",
   "execution_count": 24,
   "id": "6919f161",
   "metadata": {},
   "outputs": [],
   "source": [
    "# print(x_train[0]) # value 0~1"
   ]
  },
  {
   "cell_type": "code",
   "execution_count": 26,
   "id": "1fa2d0cb",
   "metadata": {},
   "outputs": [
    {
     "name": "stdout",
     "output_type": "stream",
     "text": [
      "5\n"
     ]
    }
   ],
   "source": [
    "print(y_train[0]) # check the label"
   ]
  },
  {
   "cell_type": "markdown",
   "id": "71e3ba90",
   "metadata": {},
   "source": [
    "## Resizing image to make it suitable for Conv layer"
   ]
  },
  {
   "cell_type": "code",
   "execution_count": 28,
   "id": "912a8dcd",
   "metadata": {},
   "outputs": [],
   "source": [
    "import numpy as np"
   ]
  },
  {
   "cell_type": "code",
   "execution_count": 33,
   "id": "8c255363",
   "metadata": {},
   "outputs": [
    {
     "name": "stdout",
     "output_type": "stream",
     "text": [
      "Training Samples dimension (60000, 28, 28, 1)\n",
      "Testing Samples dimension (10000, 28, 28, 1)\n"
     ]
    }
   ],
   "source": [
    "#when length equals to width\n",
    "IMG_SIZE=x_train.shape[1]\n",
    "x_trainr=np.array(x_train).reshape(-1, IMG_SIZE, IMG_SIZE,1)\n",
    "x_testr=np.array(x_test).reshape(-1,IMG_SIZE,IMG_SIZE,1)\n",
    "print(\"Training Samples dimension\", x_trainr.shape)\n",
    "print(\"Testing Samples dimension\", x_testr.shape)"
   ]
  },
  {
   "cell_type": "markdown",
   "id": "feda7a12",
   "metadata": {},
   "source": [
    "## Creating a deep neural network\n",
    "\n",
    "#### Training "
   ]
  },
  {
   "cell_type": "code",
   "execution_count": 34,
   "id": "5b09943f",
   "metadata": {},
   "outputs": [],
   "source": [
    "from tensorflow.keras.models import Sequential\n",
    "from tensorflow.keras.layers import Dense, Dropout, Activation, Flatten, Conv2D, MaxPooling2D"
   ]
  },
  {
   "cell_type": "code",
   "execution_count": 40,
   "id": "89dac432",
   "metadata": {},
   "outputs": [],
   "source": [
    "## Create a neural network now\n",
    "model = Sequential()\n",
    "\n",
    "### First convolution layer (number_of_photo,n,n,1), say n=28. 28-3+1=26, 26*26\n",
    "model.add(Conv2D(64, (3,3), input_shape = x_trainr.shape[1:])) # only for 1st conv layer to mention input layer size\n",
    "model.add(Activation(\"relu\")) # activation function to make it non-linear: 1) <0, drop; >0, accept.\n",
    "model.add(MaxPooling2D(pool_size=(2,2))) #Maxpooling single maximum value of 2x2\n",
    "\n",
    "### 2nd conv layer    26-->13\n",
    "model.add(Conv2D(64,(3,3)))\n",
    "model.add(Activation(\"relu\"))\n",
    "model.add(MaxPooling2D(pool_size=(2,2)))\n",
    "\n",
    "### 3rd Conv layer    \n",
    "model.add(Conv2D(64,(3,3)))\n",
    "model.add(Activation(\"relu\"))\n",
    "model.add(MaxPooling2D(pool_size=(2,2)))\n",
    " \n",
    "### Fully connected layer \n",
    "model.add(Flatten())  # 2D --> 1D\n",
    "model.add(Dense(64)) # fully connected neural network\n",
    "model.add(Activation(\"relu\"))\n",
    "\n",
    "### Fully connected layer layer #2\n",
    "model.add(Dense(32))\n",
    "model.add(Activation(\"relu\"))\n",
    "\n",
    "### Last fully connected layer, output must be equal number of the class 0~9\n",
    "model.add(Dense(10)) ## last dense layer must be equal to the output class\n",
    "model.add(Activation('softmax')) ## class possibilities\n",
    "##binary classification, one neuron in dense layer, and sigmoid as activation function\n"
   ]
  },
  {
   "cell_type": "code",
   "execution_count": 42,
   "id": "67955e68",
   "metadata": {},
   "outputs": [
    {
     "name": "stdout",
     "output_type": "stream",
     "text": [
      "Model: \"sequential_5\"\n",
      "_________________________________________________________________\n",
      "Layer (type)                 Output Shape              Param #   \n",
      "=================================================================\n",
      "conv2d_8 (Conv2D)            (None, 26, 26, 64)        640       \n",
      "_________________________________________________________________\n",
      "activation_9 (Activation)    (None, 26, 26, 64)        0         \n",
      "_________________________________________________________________\n",
      "max_pooling2d_6 (MaxPooling2 (None, 13, 13, 64)        0         \n",
      "_________________________________________________________________\n",
      "conv2d_9 (Conv2D)            (None, 11, 11, 64)        36928     \n",
      "_________________________________________________________________\n",
      "activation_10 (Activation)   (None, 11, 11, 64)        0         \n",
      "_________________________________________________________________\n",
      "max_pooling2d_7 (MaxPooling2 (None, 5, 5, 64)          0         \n",
      "_________________________________________________________________\n",
      "conv2d_10 (Conv2D)           (None, 3, 3, 64)          36928     \n",
      "_________________________________________________________________\n",
      "activation_11 (Activation)   (None, 3, 3, 64)          0         \n",
      "_________________________________________________________________\n",
      "max_pooling2d_8 (MaxPooling2 (None, 1, 1, 64)          0         \n",
      "_________________________________________________________________\n",
      "flatten_1 (Flatten)          (None, 64)                0         \n",
      "_________________________________________________________________\n",
      "dense_3 (Dense)              (None, 64)                4160      \n",
      "_________________________________________________________________\n",
      "activation_12 (Activation)   (None, 64)                0         \n",
      "_________________________________________________________________\n",
      "dense_4 (Dense)              (None, 32)                2080      \n",
      "_________________________________________________________________\n",
      "activation_13 (Activation)   (None, 32)                0         \n",
      "_________________________________________________________________\n",
      "dense_5 (Dense)              (None, 10)                330       \n",
      "_________________________________________________________________\n",
      "activation_14 (Activation)   (None, 10)                0         \n",
      "=================================================================\n",
      "Total params: 81,066\n",
      "Trainable params: 81,066\n",
      "Non-trainable params: 0\n",
      "_________________________________________________________________\n"
     ]
    }
   ],
   "source": [
    "model.summary()"
   ]
  },
  {
   "cell_type": "code",
   "execution_count": 45,
   "id": "fdb0445c",
   "metadata": {},
   "outputs": [
    {
     "name": "stdout",
     "output_type": "stream",
     "text": [
      "Total Training Samples =  60000\n"
     ]
    }
   ],
   "source": [
    "print(\"Total Training Samples = \", len(x_trainr))"
   ]
  },
  {
   "cell_type": "code",
   "execution_count": 47,
   "id": "da10c5d2",
   "metadata": {},
   "outputs": [],
   "source": [
    "model.compile(loss=\"sparse_categorical_crossentropy\",optimizer=\"adam\",metrics=['accuracy']) #adam is the best"
   ]
  },
  {
   "cell_type": "code",
   "execution_count": 48,
   "id": "157817e6",
   "metadata": {},
   "outputs": [
    {
     "name": "stdout",
     "output_type": "stream",
     "text": [
      "Epoch 1/5\n",
      "1313/1313 [==============================] - 42s 31ms/step - loss: 0.3513 - accuracy: 0.8881 - val_loss: 0.1478 - val_accuracy: 0.9552\n",
      "Epoch 2/5\n",
      "1313/1313 [==============================] - 42s 32ms/step - loss: 0.1085 - accuracy: 0.9662 - val_loss: 0.0985 - val_accuracy: 0.9689\n",
      "Epoch 3/5\n",
      "1313/1313 [==============================] - 40s 31ms/step - loss: 0.0796 - accuracy: 0.9755 - val_loss: 0.0869 - val_accuracy: 0.9742\n",
      "Epoch 4/5\n",
      "1313/1313 [==============================] - 40s 31ms/step - loss: 0.0610 - accuracy: 0.9812 - val_loss: 0.0787 - val_accuracy: 0.9763\n",
      "Epoch 5/5\n",
      "1313/1313 [==============================] - 43s 33ms/step - loss: 0.0521 - accuracy: 0.9841 - val_loss: 0.0786 - val_accuracy: 0.9773\n"
     ]
    },
    {
     "data": {
      "text/plain": [
       "<tensorflow.python.keras.callbacks.History at 0x7f1c13f01cd0>"
      ]
     },
     "execution_count": 48,
     "metadata": {},
     "output_type": "execute_result"
    }
   ],
   "source": [
    "model.fit(x_trainr, y_train,epochs=5, validation_split=0.3) ##training model"
   ]
  },
  {
   "cell_type": "code",
   "execution_count": 51,
   "id": "9e4c7b00",
   "metadata": {},
   "outputs": [
    {
     "name": "stdout",
     "output_type": "stream",
     "text": [
      "313/313 [==============================] - 3s 9ms/step - loss: 0.0807 - accuracy: 0.9774\n",
      "Tess loss on 10,000 test samples 0.08066658675670624\n",
      "Validation accuracy on 10,000 test samples 0.977400004863739\n"
     ]
    }
   ],
   "source": [
    "test_loss,test_acc = model.evaluate(x_testr, y_test)\n",
    "print(\"Tess loss on 10,000 test samples\", test_loss)\n",
    "print(\"Validation accuracy on 10,000 test samples\", test_acc)"
   ]
  },
  {
   "cell_type": "code",
   "execution_count": 52,
   "id": "8a0048fc",
   "metadata": {},
   "outputs": [],
   "source": [
    "predictions=model.predict([x_testr])\n"
   ]
  },
  {
   "cell_type": "code",
   "execution_count": 54,
   "id": "244f02b2",
   "metadata": {},
   "outputs": [
    {
     "name": "stdout",
     "output_type": "stream",
     "text": [
      "[[2.3247955e-07 8.9386469e-07 2.5656740e-05 ... 9.9993241e-01\n",
      "  6.4797746e-08 7.9013910e-07]\n",
      " [4.0080829e-07 5.7971255e-07 9.9999666e-01 ... 1.3199053e-07\n",
      "  5.5634541e-08 4.6806019e-08]\n",
      " [1.0990802e-09 9.9999952e-01 1.6852191e-08 ... 1.5804568e-07\n",
      "  2.0867699e-07 1.8780304e-08]\n",
      " ...\n",
      " [2.2601270e-09 1.0101154e-06 1.9982419e-08 ... 1.5868530e-07\n",
      "  5.9969934e-06 4.5149163e-06]\n",
      " [1.5648665e-06 1.0473189e-07 1.0314387e-09 ... 1.6932143e-09\n",
      "  3.2106436e-06 9.4910052e-07]\n",
      " [6.2948772e-07 2.6716419e-08 2.0606160e-06 ... 5.1098517e-09\n",
      "  2.0732641e-07 2.9439076e-07]]\n"
     ]
    }
   ],
   "source": [
    "print(predictions)"
   ]
  },
  {
   "cell_type": "code",
   "execution_count": 56,
   "id": "8f06e411",
   "metadata": {},
   "outputs": [
    {
     "data": {
      "text/plain": [
       "7"
      ]
     },
     "execution_count": 56,
     "metadata": {},
     "output_type": "execute_result"
    }
   ],
   "source": [
    "np.argmax(predictions[0])"
   ]
  },
  {
   "cell_type": "code",
   "execution_count": 57,
   "id": "0ebf9ada",
   "metadata": {},
   "outputs": [
    {
     "data": {
      "text/plain": [
       "<matplotlib.image.AxesImage at 0x7f19f0d3f370>"
      ]
     },
     "execution_count": 57,
     "metadata": {},
     "output_type": "execute_result"
    },
    {
     "data": {
      "image/png": "[encoded data removed]",
      "text/plain": [
       "<Figure size 432x288 with 1 Axes>"
      ]
     },
     "metadata": {
      "needs_background": "light"
     },
     "output_type": "display_data"
    }
   ],
   "source": [
    "plt.imshow(x_test[0])"
   ]
  },
  {
   "cell_type": "markdown",
   "id": "8e63ae96",
   "metadata": {},
   "source": [
    "## input a pic to test"
   ]
  },
  {
   "cell_type": "code",
   "execution_count": 59,
   "id": "a1d365a3",
   "metadata": {},
   "outputs": [],
   "source": [
    "import cv2"
   ]
  },
  {
   "cell_type": "code",
   "execution_count": 61,
   "id": "da583255",
   "metadata": {},
   "outputs": [],
   "source": [
    "img=cv2.imread('test.jpg')"
   ]
  },
  {
   "cell_type": "code",
   "execution_count": 63,
   "id": "3abcb408",
   "metadata": {},
   "outputs": [
    {
     "data": {
      "text/plain": [
       "<matplotlib.image.AxesImage at 0x7f19f3aaf5e0>"
      ]
     },
     "execution_count": 63,
     "metadata": {},
     "output_type": "execute_result"
    },
    {
     "data": {
      "image/png": "[encoded data removed]",
      "text/plain": [
       "<Figure size 432x288 with 1 Axes>"
      ]
     },
     "metadata": {
      "needs_background": "light"
     },
     "output_type": "display_data"
    }
   ],
   "source": [
    "plt.imshow(img)"
   ]
  },
  {
   "cell_type": "code",
   "execution_count": 67,
   "id": "0c09f906",
   "metadata": {},
   "outputs": [],
   "source": [
    "gray=cv2.cvtColor(img,cv2.COLOR_BGR2GRAY)\n",
    "resized=cv2.resize(gray,(28,28),interpolation=cv2.INTER_AREA)"
   ]
  },
  {
   "cell_type": "code",
   "execution_count": 71,
   "id": "1a31268d",
   "metadata": {},
   "outputs": [
    {
     "data": {
      "text/plain": [
       "(28, 28)"
      ]
     },
     "execution_count": 71,
     "metadata": {},
     "output_type": "execute_result"
    }
   ],
   "source": [
    "resized.shape\n",
    "# plt.imshow(resized)"
   ]
  },
  {
   "cell_type": "code",
   "execution_count": 74,
   "id": "19bf0892",
   "metadata": {},
   "outputs": [],
   "source": [
    "newimg=tf.keras.utils.normalize(resized,axis=1) ##normalization"
   ]
  },
  {
   "cell_type": "code",
   "execution_count": 76,
   "id": "04f8ed34",
   "metadata": {},
   "outputs": [],
   "source": [
    "newimg=np.array(newimg).reshape(-1,IMG_SIZE,IMG_SIZE,1)#kernel operation for the conv layer"
   ]
  },
  {
   "cell_type": "code",
   "execution_count": 78,
   "id": "f14456f2",
   "metadata": {},
   "outputs": [
    {
     "data": {
      "text/plain": [
       "(1, 28, 28, 1)"
      ]
     },
     "execution_count": 78,
     "metadata": {},
     "output_type": "execute_result"
    }
   ],
   "source": [
    "newimg.shape"
   ]
  },
  {
   "cell_type": "code",
   "execution_count": 79,
   "id": "16343e09",
   "metadata": {},
   "outputs": [],
   "source": [
    "predicions=model.predict(newimg)"
   ]
  },
  {
   "cell_type": "code",
   "execution_count": 80,
   "id": "1f170d31",
   "metadata": {},
   "outputs": [
    {
     "data": {
      "text/plain": [
       "3"
      ]
     },
     "execution_count": 80,
     "metadata": {},
     "output_type": "execute_result"
    }
   ],
   "source": [
    "np.argmax(predicions)"
   ]
  },
  {
   "cell_type": "code",
   "execution_count": null,
   "id": "5f1e0e10",
   "metadata": {},
   "outputs": [],
   "source": []
  }
 ],
 "metadata": {
  "kernelspec": {
   "display_name": "Python 3",
   "language": "python",
   "name": "python3"
  },
  "language_info": {
   "codemirror_mode": {
    "name": "ipython",
    "version": 3
   },
   "file_extension": ".py",
   "mimetype": "text/x-python",
   "name": "python",
   "nbconvert_exporter": "python",
   "pygments_lexer": "ipython3",
   "version": "3.8.5"
  }
 },
 "nbformat": 4,
 "nbformat_minor": 5
}
